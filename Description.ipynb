{
 "cells": [
  {
   "cell_type": "markdown",
   "id": "27031231",
   "metadata": {},
   "source": [
    "# AI Assistant - Sakshi"
   ]
  },
  {
   "cell_type": "markdown",
   "id": "c64108ea",
   "metadata": {},
   "source": [
    "A voice-enabled AI assistant named Sakshi built using Google Generative AI, speech recognition, text-to-speech, and various other Python modules. This assistant can respond to user queries, open websites, fetch weather info, tell jokes, get Wikipedia summaries, and more — all by voice commands!"
   ]
  },
  {
   "cell_type": "markdown",
   "id": "34ff241b",
   "metadata": {},
   "source": [
    "### Features"
   ]
  },
  {
   "cell_type": "markdown",
   "id": "4ccb8caf",
   "metadata": {},
   "source": [
    "1. Voice interaction: Speak to the assistant and get voice responses.\n",
    "\n",
    "2. Google Generative AI powered natural language understanding.\n",
    "\n",
    "3. Opens websites like YouTube, Google, GitHub and whatever you add in this code.\n",
    "\n",
    "4. Fetches current weather info for any city using OpenWeatherMap API.\n",
    "\n",
    "5. Tells the current time.\n",
    "\n",
    "6. Provides jokes using pyjokes.\n",
    "\n",
    "7. Fetches concise Wikipedia summaries.\n",
    "\n",
    "8. Easy to extend for more commands."
   ]
  },
  {
   "cell_type": "markdown",
   "id": "58fac06a",
   "metadata": {},
   "source": [
    "## API Keys"
   ]
  },
  {
   "cell_type": "markdown",
   "id": "1a48148c",
   "metadata": {},
   "source": [
    "### Google Generative AI API key"
   ]
  },
  {
   "cell_type": "markdown",
   "id": "ea6d9a52",
   "metadata": {},
   "source": [
    "genai.configure(api_key=\"YOUR_GOOGLE_GENERATIVE_AI_API_KEY\")"
   ]
  },
  {
   "cell_type": "markdown",
   "id": "4dd36581",
   "metadata": {},
   "source": [
    "### OpenWeatherMap API key"
   ]
  },
  {
   "cell_type": "markdown",
   "id": "50288123",
   "metadata": {},
   "source": [
    "export OPENWEATHER_API_KEY=\"YOUR_OPENWEATHERMAP_API_KEY\"\n"
   ]
  },
  {
   "cell_type": "markdown",
   "id": "426a6c98",
   "metadata": {},
   "source": [
    "## Usage Examples"
   ]
  },
  {
   "cell_type": "markdown",
   "id": "32e11e07",
   "metadata": {},
   "source": [
    "1. \"Open YouTube\"\n",
    "\n",
    "2. \"What is the weather in Mumbai?\"\n",
    "\n",
    "3. \"Tell me a joke\"\n",
    "\n",
    "4. \"What is the time?\"\n",
    "\n",
    "5. \"Search Wikipedia for Artificial Intelligence\"\n",
    "\n",
    "6. \"Bye\" (to exit)"
   ]
  },
  {
   "cell_type": "markdown",
   "id": "0e17372e",
   "metadata": {},
   "source": [
    "## Notes"
   ]
  },
  {
   "cell_type": "markdown",
   "id": "832b19af",
   "metadata": {},
   "source": [
    "Make sure your microphone is working and accessible.\n",
    "\n",
    "Internet connection is required for API calls.\n",
    "\n",
    "The assistant uses Google Generative AI to generate natural responses.\n",
    "\n",
    "To change the voice (male/female), modify the voices index in the code:"
   ]
  },
  {
   "cell_type": "markdown",
   "id": "9c324c51",
   "metadata": {},
   "source": [
    "engine.setProperty('voice', voices[1].id)  # voices[0] for male, voices[1] for female (may vary)\n"
   ]
  },
  {
   "cell_type": "markdown",
   "id": "56487a57",
   "metadata": {},
   "source": [
    "## Modules Used"
   ]
  },
  {
   "cell_type": "markdown",
   "id": "bbfa38d9",
   "metadata": {},
   "source": [
    "1. google-generativeai — for AI response generation.\n",
    "\n",
    "2. pyttsx3 — text-to-speech conversion.\n",
    "\n",
    "3. speech_recognition — speech-to-text conversion.\n",
    "\n",
    "4. webbrowser — open websites.\n",
    "\n",
    "5. requests — HTTP requests to APIs.\n",
    "\n",
    "6. datetime — time handling.\n",
    "\n",
    "7. wikipedia — fetch Wikipedia summaries.\n",
    "\n",
    "8. pyjokes — fetch programming jokes."
   ]
  },
  {
   "cell_type": "markdown",
   "id": "b8638f11",
   "metadata": {},
   "source": []
  }
 ],
 "metadata": {
  "language_info": {
   "name": "python"
  }
 },
 "nbformat": 4,
 "nbformat_minor": 5
}
